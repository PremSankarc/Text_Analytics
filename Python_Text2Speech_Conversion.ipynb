{
 "cells": [
  {
   "cell_type": "code",
   "execution_count": 6,
   "metadata": {},
   "outputs": [],
   "source": [
    "from pygame import mixer\n",
    "from gtts import gTTS\n",
    "def main():\n",
    "  tts = gTTS('Initiated by DST as part of futurology programme of Government of India during late 80’s. Department of Futures Studies commenced as a UGC plan department with full funding for five years from 1989. Started offering M.Phil in Futures Studies as a interdisciplinary programme of science, social science and technology during 1989-90. Started M.Tech in Futures Studies in 1998. Based on AICTE’s suggestion renamed the programme as M.Tech – Technology Management from 2000 onwards. Started M.Sc. in Data Science in 2019')\n",
    "  tts.save('python.mp3')\n",
    "  mixer.init()\n",
    "  mixer.music.load('python.mp3')\n",
    "  mixer.music.play()\n",
    "if __name__ == \"__main__\":\n",
    "  main()"
   ]
  },
  {
   "cell_type": "code",
   "execution_count": null,
   "metadata": {},
   "outputs": [],
   "source": []
  }
 ],
 "metadata": {
  "kernelspec": {
   "display_name": "Python 3",
   "language": "python",
   "name": "python3"
  },
  "language_info": {
   "codemirror_mode": {
    "name": "ipython",
    "version": 3
   },
   "file_extension": ".py",
   "mimetype": "text/x-python",
   "name": "python",
   "nbconvert_exporter": "python",
   "pygments_lexer": "ipython3",
   "version": "3.8.3"
  }
 },
 "nbformat": 4,
 "nbformat_minor": 4
}
